{
 "cells": [
  {
   "cell_type": "code",
   "execution_count": 9,
   "metadata": {
    "colab": {},
    "colab_type": "code",
    "id": "1ZiZTj17e_r2"
   },
   "outputs": [],
   "source": [
    "%matplotlib inline\n",
    "import numpy as np\n",
    "import matplotlib.pyplot as plt\n",
    "import math"
   ]
  },
  {
   "cell_type": "markdown",
   "metadata": {
    "colab_type": "text",
    "id": "5VMlIYpgkfdd"
   },
   "source": [
    "##Histogram\n",
    "A histogram is an accurate representation of the distribution of numerical data.\n",
    "\n",
    "Example: \n",
    "Data $x = [1,2,3,4,2,3,4,3,4,4]$\n",
    "\n",
    "Number of bins $= 4$\n",
    "\n"
   ]
  },
  {
   "cell_type": "code",
   "execution_count": 20,
   "metadata": {
    "colab": {
     "base_uri": "https://localhost:8080/",
     "height": 282
    },
    "colab_type": "code",
    "executionInfo": {
     "elapsed": 1944,
     "status": "ok",
     "timestamp": 1547800133999,
     "user": {
      "displayName": "Jignesh Patel",
      "photoUrl": "https://lh4.googleusercontent.com/-vUfG6O6FZMo/AAAAAAAAAAI/AAAAAAAAEbI/nRY5hm534mE/s64/photo.jpg",
      "userId": "14227228275160561258"
     },
     "user_tz": -330
    },
    "id": "pzTtLmIenr7w",
    "outputId": "48352728-1d74-4683-99ae-ed6e9e098c10"
   },
   "outputs": [
    {
     "data": {
      "text/plain": [
       "<BarContainer object of 4 artists>"
      ]
     },
     "execution_count": 20,
     "metadata": {},
     "output_type": "execute_result"
    },
    {
     "data": {
      "image/png": "[encoded data removed]",
      "text/plain": [
       "<Figure size 432x288 with 1 Axes>"
      ]
     },
     "metadata": {
      "needs_background": "light"
     },
     "output_type": "display_data"
    }
   ],
   "source": [
    "x = np.array([1,2,3,4,2,3,4,3,4,4])\n",
    "bins = np.linspace(1,4,4)\n",
    "freq = np.array([1,2,3,4])\n",
    "no_samples = 10\n",
    "plt.bar(bins,freq)"
   ]
  },
  {
   "cell_type": "code",
   "execution_count": 21,
   "metadata": {
    "colab": {
     "base_uri": "https://localhost:8080/",
     "height": 282
    },
    "colab_type": "code",
    "executionInfo": {
     "elapsed": 1945,
     "status": "ok",
     "timestamp": 1547800134000,
     "user": {
      "displayName": "Jignesh Patel",
      "photoUrl": "https://lh4.googleusercontent.com/-vUfG6O6FZMo/AAAAAAAAAAI/AAAAAAAAEbI/nRY5hm534mE/s64/photo.jpg",
      "userId": "14227228275160561258"
     },
     "user_tz": -330
    },
    "id": "kfXCPCKd1BbJ",
    "outputId": "3cc95dea-0030-425a-af7f-5fdbdbc46ab5"
   },
   "outputs": [
    {
     "data": {
      "text/plain": [
       "<BarContainer object of 4 artists>"
      ]
     },
     "execution_count": 21,
     "metadata": {},
     "output_type": "execute_result"
    },
    {
     "data": {
      "image/png": "[encoded data removed]",
      "text/plain": [
       "<Figure size 432x288 with 1 Axes>"
      ]
     },
     "metadata": {
      "needs_background": "light"
     },
     "output_type": "display_data"
    }
   ],
   "source": [
    "#PDF\n",
    "plt.bar(bins,freq/(no_samples))\n"
   ]
  },
  {
   "cell_type": "markdown",
   "metadata": {
    "colab_type": "text",
    "id": "v4Knr5MmFg0x"
   },
   "source": [
    "##<font color='red'>1.Create hist function to plot PDF.</font> "
   ]
  },
  {
   "cell_type": "code",
   "execution_count": 66,
   "metadata": {
    "colab": {},
    "colab_type": "code",
    "id": "0dY5akx-iVqm"
   },
   "outputs": [],
   "source": [
    "def hist(x,no_bins):\n",
    "    mx = np.amax(x)\n",
    "    mn = np.amin(x)\n",
    "    bins = np.linspace(mn,mx,no_bins)\n",
    "    \n",
    "    sz = (mx-mn+1)/no_bins\n",
    "    \n",
    "    freq = np.zeros(no_bins)\n",
    "    for i in x:\n",
    "#         print(i)\n",
    "        temp = int(round((i-mn)/sz))\n",
    "        if temp == 0:\n",
    "            temp = 1\n",
    "        freq[temp-1] = freq[temp-1]+1\n",
    "    \n",
    "    plt.figure()\n",
    "    plt.bar(bins,freq/len(x))\n",
    "    return bins,freq"
   ]
  },
  {
   "cell_type": "code",
   "execution_count": 67,
   "metadata": {
    "colab": {
     "base_uri": "https://localhost:8080/",
     "height": 282
    },
    "colab_type": "code",
    "executionInfo": {
     "elapsed": 2558,
     "status": "ok",
     "timestamp": 1547800134616,
     "user": {
      "displayName": "Jignesh Patel",
      "photoUrl": "https://lh4.googleusercontent.com/-vUfG6O6FZMo/AAAAAAAAAAI/AAAAAAAAEbI/nRY5hm534mE/s64/photo.jpg",
      "userId": "14227228275160561258"
     },
     "user_tz": -330
    },
    "id": "Gl9fdGJ66L_N",
    "outputId": "dc6d15f5-33cf-4a2a-bb44-3f60ac43c47c"
   },
   "outputs": [
    {
     "data": {
      "text/plain": [
       "(array([1.        , 3.66666667, 6.33333333, 9.        ]),\n",
       " array([5., 1., 0., 1.]))"
      ]
     },
     "execution_count": 67,
     "metadata": {},
     "output_type": "execute_result"
    },
    {
     "data": {
      "image/png": "[encoded data removed]",
      "text/plain": [
       "<Figure size 432x288 with 1 Axes>"
      ]
     },
     "metadata": {
      "needs_background": "light"
     },
     "output_type": "display_data"
    }
   ],
   "source": [
    "x = np.array([1,1,1,1,1,5,9])\n",
    "hist(x,4)"
   ]
  },
  {
   "cell_type": "markdown",
   "metadata": {
    "colab_type": "text",
    "id": "jvmf3e6q3MIH"
   },
   "source": [
    "## Gaussian random variable\n",
    "The probability density of the normal distribution is\n",
    "$$f(x|\\mu,\\sigma)=\\frac{1}{\\sqrt{2\\pi\\sigma^2}}e^{\\frac{(x-\\mu)^2}{2\\sigma^2}}$$\n",
    "where,\n",
    "\n",
    "$\\mu$  is the mean or expectation of the distribution (and also its median and mode),\n",
    "\n",
    "$\\sigma$  is the standard deviation, and\n",
    "\n",
    "$\\sigma ^{2}$ is the variance.\n",
    "\n",
    "range of variable is approximately $\\mu-3\\sigma$ to $\\mu+3\\sigma$"
   ]
  },
  {
   "cell_type": "markdown",
   "metadata": {
    "colab_type": "text",
    "id": "ybW4XrQT6cOn"
   },
   "source": [
    "##<font color='red'>2. Plot Gaussian PDF using above formula with $\\mu=0$ and $\\sigma=1$.</font> "
   ]
  },
  {
   "cell_type": "code",
   "execution_count": 81,
   "metadata": {
    "colab": {
     "base_uri": "https://localhost:8080/",
     "height": 265
    },
    "colab_type": "code",
    "executionInfo": {
     "elapsed": 3141,
     "status": "ok",
     "timestamp": 1547800135202,
     "user": {
      "displayName": "Jignesh Patel",
      "photoUrl": "https://lh4.googleusercontent.com/-vUfG6O6FZMo/AAAAAAAAAAI/AAAAAAAAEbI/nRY5hm534mE/s64/photo.jpg",
      "userId": "14227228275160561258"
     },
     "user_tz": -330
    },
    "id": "N5yVl44EjLm-",
    "outputId": "ab7c56b1-c880-4a6e-c8da-6342547d3603"
   },
   "outputs": [
    {
     "data": {
      "image/png": "[encoded data removed]",
      "text/plain": [
       "<Figure size 432x288 with 1 Axes>"
      ]
     },
     "metadata": {
      "needs_background": "light"
     },
     "output_type": "display_data"
    }
   ],
   "source": [
    "mu = 0\n",
    "sigma = 1\n",
    "temp1 = 1/math.sqrt(2*np.pi*sigma*sigma)  \n",
    "x1 = np.linspace(mu-3*sigma,mu+3*sigma,100)\n",
    "var = temp1*np.exp(-1*(x1-mu)*(x1-mu)/(2*sigma*sigma))\n",
    "plt.plot(x1,var,'r-*')\n",
    "plt.show()"
   ]
  },
  {
   "cell_type": "markdown",
   "metadata": {
    "colab_type": "text",
    "id": "VoQRYnjo5VoU"
   },
   "source": [
    "###Draw random samples from a normal (Gaussian) distribution.\n",
    "numpy.random.normal($\\mu$, $\\sigma$, number of samples)\n",
    "\n",
    "https://docs.scipy.org/doc/numpy-1.15.0/reference/generated/numpy.random.normal.html"
   ]
  },
  {
   "cell_type": "markdown",
   "metadata": {
    "colab_type": "text",
    "id": "15kHygw8_Nb6"
   },
   "source": [
    "##<font color='red'>3. Genarate gaussian random variable (M=1000 samples) with $\\mu=0$ and $\\sigma=1$.  Plot the PDF using hist function and compare with PDF generated using above formula. Repeat for $\\mu=4$ and $\\sigma=4$. </font> "
   ]
  },
  {
   "cell_type": "code",
   "execution_count": 87,
   "metadata": {
    "colab": {
     "base_uri": "https://localhost:8080/",
     "height": 265
    },
    "colab_type": "code",
    "executionInfo": {
     "elapsed": 3145,
     "status": "ok",
     "timestamp": 1547800135206,
     "user": {
      "displayName": "Jignesh Patel",
      "photoUrl": "https://lh4.googleusercontent.com/-vUfG6O6FZMo/AAAAAAAAAAI/AAAAAAAAEbI/nRY5hm534mE/s64/photo.jpg",
      "userId": "14227228275160561258"
     },
     "user_tz": -330
    },
    "id": "YnsRn8IKe_r9",
    "outputId": "6377aef0-7532-492a-e994-3a4f3ac92c82"
   },
   "outputs": [
    {
     "data": {
      "image/png": "[encoded data removed]",
      "text/plain": [
       "<Figure size 432x288 with 1 Axes>"
      ]
     },
     "metadata": {
      "needs_background": "light"
     },
     "output_type": "display_data"
    }
   ],
   "source": [
    "mu = 4\n",
    "sigma = 4\n",
    "M = 1000\n",
    "no_bins = 30\n",
    "x = np.random.normal(mu, sigma, 1000)\n",
    "[bins,freq]=hist(x,no_bins)\n",
    "\n",
    "temp1 = 1/math.sqrt(2*np.pi*sigma*sigma)  \n",
    "x1 = np.linspace(mu-3*sigma,mu+3*sigma,100)\n",
    "var = temp1*np.exp(-1*(x1-mu)*(x1-mu)/(2*sigma*sigma))\n",
    "plt.plot(x1,var,'r-*')\n",
    "#plt.plot(x1,mlab.normpdf(x1, mu, sigma),'r-*')\n",
    "plt.show()\n"
   ]
  },
  {
   "cell_type": "markdown",
   "metadata": {
    "colab_type": "text",
    "id": "kdtOuYDoBBfl"
   },
   "source": [
    "##<font color='red'>3. Plot CDF for above random variables. </font> "
   ]
  },
  {
   "cell_type": "code",
   "execution_count": 96,
   "metadata": {
    "colab": {},
    "colab_type": "code",
    "id": "3boaAehUe_sB"
   },
   "outputs": [],
   "source": [
    "#CDF\n",
    "def CDF(bins,freq):\n",
    "    cdf = np.zeros(bins.shape)\n",
    "    \n",
    "    for i in range(len(bins)):\n",
    "        if i==0:\n",
    "            cdf[i] = freq[i]\n",
    "        else:\n",
    "            cdf[i] = cdf[i-1] + freq[i]\n",
    "    \n",
    "    plt.figure()\n",
    "    plt.plot(bins,cdf)\n",
    "    plt.show()"
   ]
  },
  {
   "cell_type": "code",
   "execution_count": 97,
   "metadata": {
    "colab": {
     "base_uri": "https://localhost:8080/",
     "height": 265
    },
    "colab_type": "code",
    "executionInfo": {
     "elapsed": 3621,
     "status": "ok",
     "timestamp": 1547800135684,
     "user": {
      "displayName": "Jignesh Patel",
      "photoUrl": "https://lh4.googleusercontent.com/-vUfG6O6FZMo/AAAAAAAAAAI/AAAAAAAAEbI/nRY5hm534mE/s64/photo.jpg",
      "userId": "14227228275160561258"
     },
     "user_tz": -330
    },
    "id": "seNxrp6_CahF",
    "outputId": "8a194cf5-3cc2-4d17-f566-bc78105d638c"
   },
   "outputs": [
    {
     "data": {
      "image/png": "[encoded data removed]",
      "text/plain": [
       "<Figure size 432x288 with 1 Axes>"
      ]
     },
     "metadata": {
      "needs_background": "light"
     },
     "output_type": "display_data"
    }
   ],
   "source": [
    "CDF(bins,freq)"
   ]
  },
  {
   "cell_type": "markdown",
   "metadata": {
    "colab_type": "text",
    "id": "9FxjyJWpB0cp"
   },
   "source": [
    "##<font color='red'>4. For a random variable $X$ following normal distribution, show the PDF for a transformed random variable $X^2$. Find the mean and compare it with true mean. Use different values of M. </font> "
   ]
  },
  {
   "cell_type": "code",
   "execution_count": 100,
   "metadata": {
    "colab": {
     "base_uri": "https://localhost:8080/",
     "height": 530
    },
    "colab_type": "code",
    "executionInfo": {
     "elapsed": 4265,
     "status": "ok",
     "timestamp": 1547800136329,
     "user": {
      "displayName": "Jignesh Patel",
      "photoUrl": "https://lh4.googleusercontent.com/-vUfG6O6FZMo/AAAAAAAAAAI/AAAAAAAAEbI/nRY5hm534mE/s64/photo.jpg",
      "userId": "14227228275160561258"
     },
     "user_tz": -330
    },
    "id": "BYj5Cxrde_sJ",
    "outputId": "f3f1c55d-860d-4ba9-97a1-94517023ccd8"
   },
   "outputs": [
    {
     "name": "stdout",
     "output_type": "stream",
     "text": [
      "Mean of x is -0.034997\n",
      "Mean of x^2 is 1.022797\n"
     ]
    },
    {
     "data": {
      "image/png": "[encoded data removed]",
      "text/plain": [
       "<Figure size 432x288 with 1 Axes>"
      ]
     },
     "metadata": {
      "needs_background": "light"
     },
     "output_type": "display_data"
    },
    {
     "data": {
      "image/png": "[encoded data removed]",
      "text/plain": [
       "<Figure size 432x288 with 1 Axes>"
      ]
     },
     "metadata": {
      "needs_background": "light"
     },
     "output_type": "display_data"
    }
   ],
   "source": [
    "mu = 0\n",
    "sigma = 1\n",
    "M = 1000\n",
    "no_bins = 30\n",
    "x = np.random.normal(mu, sigma, M)\n",
    "\n",
    "# x2 = np.zeros(shape=(M))\n",
    "x2 = np.multiply(x,x)\n",
    "\n",
    "[bins,freq]=hist(x,no_bins)    \n",
    "[bins,freq]=hist(x2,no_bins)\n",
    "\n",
    "print(\"Mean of x is %f\"%(x.mean()))\n",
    "print(\"Mean of x^2 is %f\"%(x2.mean()))"
   ]
  },
  {
   "cell_type": "markdown",
   "metadata": {
    "colab_type": "text",
    "id": "oSHF1JCFFjiS"
   },
   "source": [
    "## Uniform random variable\n",
    "The probability density of the uniform distribution is\n",
    "$$f(x|a,b)=\\begin{cases}\n",
    "    \\frac{1}{b-a},& \\text{if } a \\leq x\\leq b\\\\\n",
    "    0,              & \\text{otherwise}\n",
    "\\end{cases}$$\n",
    "\n",
    "\n",
    "##Draw samples from a uniform distribution.\n",
    "numpy.random.uniform(a,b,number of samples)\n",
    "\n",
    "https://docs.scipy.org/doc/numpy-1.15.0/reference/generated/numpy.random.uniform.html"
   ]
  },
  {
   "cell_type": "markdown",
   "metadata": {
    "colab_type": "text",
    "id": "6VWZLiTtECun"
   },
   "source": [
    "##<font color='red'>5. Genarate Uniform random variable with $a= 1$ and $b=2$. Plot the PDF and CDF.<font> "
   ]
  },
  {
   "cell_type": "code",
   "execution_count": 105,
   "metadata": {
    "colab": {
     "base_uri": "https://localhost:8080/",
     "height": 547
    },
    "colab_type": "code",
    "executionInfo": {
     "elapsed": 11949,
     "status": "ok",
     "timestamp": 1547800144014,
     "user": {
      "displayName": "Jignesh Patel",
      "photoUrl": "https://lh4.googleusercontent.com/-vUfG6O6FZMo/AAAAAAAAAAI/AAAAAAAAEbI/nRY5hm534mE/s64/photo.jpg",
      "userId": "14227228275160561258"
     },
     "user_tz": -330
    },
    "id": "_aH7HdAye_sN",
    "outputId": "9c61273d-5210-46f8-b982-12456914427d"
   },
   "outputs": [
    {
     "data": {
      "image/png": "[encoded data removed]",
      "text/plain": [
       "<Figure size 432x288 with 1 Axes>"
      ]
     },
     "metadata": {
      "needs_background": "light"
     },
     "output_type": "display_data"
    },
    {
     "data": {
      "image/png": "[encoded data removed]",
      "text/plain": [
       "<Figure size 432x288 with 1 Axes>"
      ]
     },
     "metadata": {
      "needs_background": "light"
     },
     "output_type": "display_data"
    },
    {
     "name": "stdout",
     "output_type": "stream",
     "text": [
      "Mean of x_uniform is 1.495007\n",
      "Variance of x_uniform is 0.087253\n"
     ]
    }
   ],
   "source": [
    "a=1\n",
    "b=2\n",
    "M = 1000\n",
    "no_bins = 30\n",
    "x_uniform = np.random.uniform(a,b,M)\n",
    "[bins,freq]=hist(x_uniform,no_bins)\n",
    "\n",
    "#CDF\n",
    "CDF(bins,freq)\n",
    "\n",
    "print(\"Mean of x_uniform is %f\"%(x_uniform.mean()))\n",
    "print(\"Variance of x_uniform is %f\"%(x_uniform.var()))\n"
   ]
  },
  {
   "cell_type": "markdown",
   "metadata": {
    "colab_type": "text",
    "id": "irmS_vBDEZ7j"
   },
   "source": [
    "##<font color='red'>6. Consider the transformed random variable Y=pX+q, where X is uniform random variable between 1 and 2. Take p=4 and q=5 and plot PDF and CDF for Y. Also find the mean and variance of Y.</font> "
   ]
  },
  {
   "cell_type": "code",
   "execution_count": 107,
   "metadata": {
    "colab": {
     "base_uri": "https://localhost:8080/",
     "height": 547
    },
    "colab_type": "code",
    "executionInfo": {
     "elapsed": 19199,
     "status": "ok",
     "timestamp": 1547800151265,
     "user": {
      "displayName": "Jignesh Patel",
      "photoUrl": "https://lh4.googleusercontent.com/-vUfG6O6FZMo/AAAAAAAAAAI/AAAAAAAAEbI/nRY5hm534mE/s64/photo.jpg",
      "userId": "14227228275160561258"
     },
     "user_tz": -330
    },
    "id": "MEppAxpzBKM_",
    "outputId": "4f8ee38f-3a16-444a-e7af-9b716a51387b"
   },
   "outputs": [
    {
     "data": {
      "image/png": "[encoded data removed]",
      "text/plain": [
       "<Figure size 432x288 with 1 Axes>"
      ]
     },
     "metadata": {
      "needs_background": "light"
     },
     "output_type": "display_data"
    },
    {
     "data": {
      "image/png": "[encoded data removed]",
      "text/plain": [
       "<Figure size 432x288 with 1 Axes>"
      ]
     },
     "metadata": {
      "needs_background": "light"
     },
     "output_type": "display_data"
    },
    {
     "name": "stdout",
     "output_type": "stream",
     "text": [
      "Mean of y is 11.058215\n",
      "Variance of y is 1.310972\n"
     ]
    }
   ],
   "source": [
    "\n",
    "p = 4\n",
    "q = 5\n",
    "x_uniform = np.random.uniform(a,b,M)\n",
    "y = p*x_uniform + q\n",
    "\n",
    "[bins,freq]=hist(x_uniform,no_bins)\n",
    "CDF(bins,freq)\n",
    "print(\"Mean of y is %f\"%(y.mean()))\n",
    "print(\"Variance of y is %f\"%(y.var()))"
   ]
  }
 ],
 "metadata": {
  "accelerator": "GPU",
  "colab": {
   "collapsed_sections": [],
   "name": "LAB 2 Probability Density Function (PDF) Using Histogram.ipynb",
   "provenance": [],
   "version": "0.3.2"
  },
  "kernelspec": {
   "display_name": "Python 3",
   "language": "python",
   "name": "python3"
  },
  "language_info": {
   "codemirror_mode": {
    "name": "ipython",
    "version": 3
   },
   "file_extension": ".py",
   "mimetype": "text/x-python",
   "name": "python",
   "nbconvert_exporter": "python",
   "pygments_lexer": "ipython3",
   "version": "3.7.1"
  }
 },
 "nbformat": 4,
 "nbformat_minor": 1
}
