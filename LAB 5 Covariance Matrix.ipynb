{
 "cells": [
  {
   "cell_type": "code",
   "execution_count": 1,
   "metadata": {
    "colab": {},
    "colab_type": "code",
    "id": "6MOcNluBHUd4"
   },
   "outputs": [],
   "source": [
    "%matplotlib inline\n",
    "import numpy as np\n",
    "import matplotlib.pyplot as plt\n",
    "from mpl_toolkits.mplot3d import Axes3D\n",
    "from matplotlib import cm\n",
    "import matplotlib.image as mpimg"
   ]
  },
  {
   "cell_type": "markdown",
   "metadata": {
    "colab_type": "text",
    "id": "rHoCkPksS_eG"
   },
   "source": [
    "## Three different Gaussian random variables, i.e., $X1$, $X2$ and $X3$ with $0$ mean and $1$ variance. "
   ]
  },
  {
   "cell_type": "code",
   "execution_count": 16,
   "metadata": {
    "colab": {},
    "colab_type": "code",
    "id": "k3aRQUlwITVQ"
   },
   "outputs": [
    {
     "name": "stdout",
     "output_type": "stream",
     "text": [
      "3\n"
     ]
    }
   ],
   "source": [
    "M = 2000\n",
    "\n",
    "mu = 0\n",
    "sigma = 1\n",
    "\n",
    "x1 = np.random.normal(mu,sigma,M)\n",
    "x2 = np.random.normal(mu,sigma,M)\n",
    "x3 = np.random.normal(mu,sigma,M)\n",
    "\n",
    "X = np.transpose(np.reshape(np.array([x1,x2,x3]),[3,M]))\n",
    "print(len(X[0]))"
   ]
  },
  {
   "cell_type": "markdown",
   "metadata": {
    "colab_type": "text",
    "id": "grSpBhjFS_ei"
   },
   "source": [
    "## <font color='red'>1. Compute the covariance matrix of  $X1$, $X2$ and $X3$. Covariance matrix (CV) $$CV = \\begin{bmatrix} cov(X1,X1) & cov(X1,X2)& cov(X1,X3)\\\\cov(X2,X1) & cov(X2,X2)& cov(X2,X3)\\\\cov(X3,X1) & cov(X3,X2)& cov(X3,X3)\\end{bmatrix}.$$ Here, $$cov(X,Y)=E[XY]-E[X]E[Y]$$</font> \n"
   ]
  },
  {
   "cell_type": "code",
   "execution_count": 19,
   "metadata": {
    "colab": {},
    "colab_type": "code",
    "id": "AjP3K-UmDKf5"
   },
   "outputs": [],
   "source": [
    "def column(matrix, i):\n",
    "    return np.array([row[i] for row in matrix])\n",
    "\n",
    "def covmat(data_mat):\n",
    "    \n",
    "    # n is number of random variables\n",
    "    n = len(data_mat[0])\n",
    "    \n",
    "    CV = np.zeros([n,n])\n",
    "    \n",
    "    #individual means of all random variables\n",
    "    for i in range(0,n):\n",
    "        curr_vector = column(data_mat,i)\n",
    "        temp = curr_vector*curr_vector\n",
    "        CV[i][i] = np.mean(temp) - np.mean(curr_vector)*np.mean(curr_vector)\n",
    "    \n",
    "    #for two variables\n",
    "    for i in range(0,n):\n",
    "        for j in range(i+1,n):\n",
    "            col1 = column(data_mat,i)\n",
    "            col2 = column(data_mat,j)\n",
    "            final = col1*col2\n",
    "            CV[i][j] = np.mean(final) - np.mean(col1)*np.mean(col2)\n",
    "            CV[j][i] = CV[i][j]\n",
    "    \n",
    "#     #variance of x1\n",
    "#     #mean of x^2\n",
    "#     x11 = x1*x1\n",
    "#     val = np.mean(x11)\n",
    "#     CV[0][0] = val-np.mean(x1)*np.mean(x1)\n",
    "    \n",
    "#     x22 = x2*x2\n",
    "#     val = np.mean(x22)\n",
    "#     CV[1][1] = val-np.mean(x2)*np.mean(x2)\n",
    "    \n",
    "#     x33 = x3*x3\n",
    "#     val = np.mean(x33)\n",
    "#     CV[2][2] = val-np.mean(x3)*np.mean(x3)\n",
    "    \n",
    "#     x12 = np.zeros_like(x1)\n",
    "    \n",
    "#     #co variance of x1 and x2\n",
    "#     for i in range(0,M):\n",
    "#         x12[i] = x1[i]*x2[i]\n",
    "#     CV[0][1] = np.mean(x12)-np.mean(x1)*np.mean(x2)\n",
    "#     CV[1][0] = CV[0][1]\n",
    "    \n",
    "#     x32 = np.zeros_like(x1)\n",
    "#     for i in range(0,M):\n",
    "#         x32[i] = x3[i]*x2[i]\n",
    "#     CV[1][2] = np.mean(x32)-np.mean(x3)*np.mean(x2)\n",
    "#     CV[2][1] = CV[1][2]\n",
    "    \n",
    "#     x13 = np.zeros_like(x1)\n",
    "#     for i in range(0,M):\n",
    "#         x13[i] = x1[i]*x3[i]\n",
    "#     CV[0][2] = np.mean(x13)-np.mean(x1)*np.mean(x3)\n",
    "#     CV[2][0] = CV[0][2]\n",
    "        \n",
    "    return CV"
   ]
  },
  {
   "cell_type": "code",
   "execution_count": 20,
   "metadata": {
    "colab": {},
    "colab_type": "code",
    "id": "vTI0tis2DKgA",
    "outputId": "b7d80c8e-3de8-41d9-fbb0-45a04bc5381b"
   },
   "outputs": [
    {
     "name": "stdout",
     "output_type": "stream",
     "text": [
      "[[ 1.01633742 -0.04347989  0.00702793]\n",
      " [-0.04347989  0.99016369  0.01599443]\n",
      " [ 0.00702793  0.01599443  0.97730529]]\n"
     ]
    },
    {
     "data": {
      "text/plain": [
       "<matplotlib.colorbar.Colorbar at 0x7fea33c6f6a0>"
      ]
     },
     "execution_count": 20,
     "metadata": {},
     "output_type": "execute_result"
    },
    {
     "data": {
      "image/png": "[encoded data removed]",
      "text/plain": [
       "<Figure size 432x288 with 2 Axes>"
      ]
     },
     "metadata": {
      "needs_background": "light"
     },
     "output_type": "display_data"
    }
   ],
   "source": [
    "CV = covmat(X)\n",
    "print(CV)\n",
    "fig=plt.figure()\n",
    "plt.imshow(CV)\n",
    "plt.colorbar()"
   ]
  },
  {
   "cell_type": "markdown",
   "metadata": {
    "colab_type": "text",
    "id": "TgcyZLsoDKgJ"
   },
   "source": [
    "## <font color='red'>2. Generate three random variables as $X1$, $X2$ and $X1+X2$. Compute the covariance matrix</font> "
   ]
  },
  {
   "cell_type": "code",
   "execution_count": 21,
   "metadata": {
    "colab": {},
    "colab_type": "code",
    "id": "JTXX_TsuDaLX"
   },
   "outputs": [
    {
     "name": "stdout",
     "output_type": "stream",
     "text": [
      "[[ 1.3191293  -0.02745674  1.29167255]\n",
      " [-0.02745674  1.31288213  1.28542538]\n",
      " [ 1.29167255  1.28542538  2.57709794]]\n"
     ]
    },
    {
     "data": {
      "text/plain": [
       "<matplotlib.colorbar.Colorbar at 0x7fea33b9a080>"
      ]
     },
     "execution_count": 21,
     "metadata": {},
     "output_type": "execute_result"
    },
    {
     "data": {
      "image/png": "[encoded data removed]",
      "text/plain": [
       "<Figure size 432x288 with 2 Axes>"
      ]
     },
     "metadata": {
      "needs_background": "light"
     },
     "output_type": "display_data"
    }
   ],
   "source": [
    "x1 = np.random.uniform(5,9,M)\n",
    "x2 = np.random.uniform(15,19,M)\n",
    "x3 = x1 + x2\n",
    "X = np.transpose(np.reshape(np.array([x1,x2,x3]),[3,M]))\n",
    "CV = covmat(X)\n",
    "print(CV)\n",
    "fig=plt.figure()\n",
    "plt.imshow(CV)\n",
    "plt.colorbar()"
   ]
  },
  {
   "cell_type": "markdown",
   "metadata": {
    "colab_type": "text",
    "id": "W2UR5Hn2DKgP"
   },
   "source": [
    "## <font color='red'>3. Generate covariance matrix of correlated data. Take face images as the data.</font> "
   ]
  },
  {
   "cell_type": "code",
   "execution_count": 23,
   "metadata": {
    "colab": {},
    "colab_type": "code",
    "id": "Fi4E7jO9DKgR",
    "outputId": "2b4a984d-f72c-4c9a-df31-bb2ad04b6e6f"
   },
   "outputs": [
    {
     "name": "stdout",
     "output_type": "stream",
     "text": [
      "[[-16354.60012522 -14246.51604614 -14245.30647319 -14557.76122766\n",
      "  -15987.5130235  -16533.85277879]\n",
      " [-14246.51604614 -12438.46267815 -12414.67478852 -12688.2016277\n",
      "  -13937.5356198  -14412.66278925]\n",
      " [-14245.30647319 -12414.67478852 -12432.98480126 -12686.65473454\n",
      "  -13933.34908939 -14409.73408491]\n",
      " [-14557.76122766 -12688.2016277  -12686.65473454 -12986.96458123\n",
      "  -14241.61305505 -14728.08677508]\n",
      " [-15987.5130235  -13937.5356198  -13933.34908939 -14241.61305505\n",
      "  -15669.1158713  -16174.92234759]\n",
      " [-16533.85277879 -14412.66278925 -14409.73408491 -14728.08677508\n",
      "  -16174.92234759 -16748.9134148 ]]\n"
     ]
    },
    {
     "data": {
      "text/plain": [
       "<matplotlib.colorbar.Colorbar at 0x7fea3389db70>"
      ]
     },
     "execution_count": 23,
     "metadata": {},
     "output_type": "execute_result"
    },
    {
     "data": {
      "image/png": "[encoded data removed]",
      "text/plain": [
       "<Figure size 432x288 with 2 Axes>"
      ]
     },
     "metadata": {
      "needs_background": "light"
     },
     "output_type": "display_data"
    },
    {
     "data": {
      "image/png": "[encoded data removed]",
      "text/plain": [
       "<Figure size 432x288 with 2 Axes>"
      ]
     },
     "metadata": {
      "needs_background": "light"
     },
     "output_type": "display_data"
    }
   ],
   "source": [
    "X1 = mpimg.imread('f1.pgm')\n",
    "plt.imshow(X1)\n",
    "plt.colorbar()\n",
    "[m,n]=np.shape(X1)\n",
    "X1 = X1.flatten()\n",
    "X2 = mpimg.imread('f2.pgm').flatten()\n",
    "X3 = mpimg.imread('f3.pgm').flatten()\n",
    "X4 = mpimg.imread('f4.pgm').flatten()\n",
    "X5 = mpimg.imread('f5.pgm').flatten()\n",
    "X6 = mpimg.imread('f6.pgm').flatten()\n",
    "\n",
    "X =  np.transpose(np.reshape(np.array([X1,X2,X3,X4,X5,X6]),[6,n*m]))\n",
    "CV = covmat(X)\n",
    "print(CV)\n",
    "fig=plt.figure()\n",
    "plt.imshow(CV)\n",
    "plt.colorbar()"
   ]
  },
  {
   "cell_type": "markdown",
   "metadata": {
    "colab_type": "text",
    "id": "tZ4hd5nuDKgh"
   },
   "source": [
    "## <font color='red'>4. Show that data and noise are uncorrelated. Take Image files as your data and standard gaussian noise.</font> "
   ]
  },
  {
   "cell_type": "code",
   "execution_count": 24,
   "metadata": {
    "colab": {},
    "colab_type": "code",
    "id": "fkY_DbQeDKgl",
    "outputId": "0a778e26-a017-40e1-d963-223406fb90ad"
   },
   "outputs": [
    {
     "name": "stdout",
     "output_type": "stream",
     "text": [
      "[[ 1.00000000e+00  6.86364063e-01  5.43393694e-01  5.76192802e-01\n",
      "   3.72836320e-01  3.00766740e-01  3.29827832e-03]\n",
      " [ 6.86364063e-01  1.00000000e+00  4.36424961e-01  4.08870995e-01\n",
      "   3.26988068e-01  1.18513726e-01  1.21338105e-03]\n",
      " [ 5.43393694e-01  4.36424961e-01  1.00000000e+00  5.98566612e-01\n",
      "   4.73639113e-01  3.97086330e-01 -4.81854271e-03]\n",
      " [ 5.76192802e-01  4.08870995e-01  5.98566612e-01  1.00000000e+00\n",
      "   5.21458256e-01  3.60153830e-01  9.55744088e-04]\n",
      " [ 3.72836320e-01  3.26988068e-01  4.73639113e-01  5.21458256e-01\n",
      "   1.00000000e+00  2.89964477e-01 -9.78006971e-03]\n",
      " [ 3.00766740e-01  1.18513726e-01  3.97086330e-01  3.60153830e-01\n",
      "   2.89964477e-01  1.00000000e+00  7.05098623e-03]\n",
      " [ 3.29827832e-03  1.21338105e-03 -4.81854271e-03  9.55744088e-04\n",
      "  -9.78006971e-03  7.05098623e-03  1.02794112e+00]]\n"
     ]
    },
    {
     "data": {
      "text/plain": [
       "<matplotlib.colorbar.Colorbar at 0x7fea60f32a90>"
      ]
     },
     "execution_count": 24,
     "metadata": {},
     "output_type": "execute_result"
    },
    {
     "data": {
      "image/png": "[encoded data removed]",
      "text/plain": [
       "<Figure size 432x288 with 2 Axes>"
      ]
     },
     "metadata": {
      "needs_background": "light"
     },
     "output_type": "display_data"
    }
   ],
   "source": [
    "X1 = (X1-np.mean(X1))/np.std(X1) # FOR NORMALIZATION TO ZERO MEAN ONE VARIANCE\n",
    "X2 = (X2-np.mean(X2))/np.std(X2)\n",
    "X3 = (X3-np.mean(X3))/np.std(X3)\n",
    "X4 = (X4-np.mean(X4))/np.std(X4)\n",
    "X5 = (X5-np.mean(X5))/np.std(X5)\n",
    "X6 = (X6-np.mean(X6))/np.std(X6)\n",
    "\n",
    "XN = np.random.normal(0,1,n*m)\n",
    "X =  np.transpose(np.reshape(np.array([X1,X2,X3,X4,X5,X6,XN]),[7,n*m]))\n",
    "CV = covmat(X)\n",
    "print(CV)\n",
    "fig=plt.figure()\n",
    "plt.imshow(CV)\n",
    "plt.colorbar()"
   ]
  },
  {
   "cell_type": "markdown",
   "metadata": {
    "colab_type": "text",
    "id": "S8wJd5UFDKgx"
   },
   "source": [
    "## Consider $X1$,$X2$ and $X3$ uniform random variables"
   ]
  },
  {
   "cell_type": "code",
   "execution_count": 35,
   "metadata": {
    "colab": {},
    "colab_type": "code",
    "id": "oIm-4YKJDKg3",
    "outputId": "32e128c8-bf93-41d5-ee9f-b3bc397ca872"
   },
   "outputs": [
    {
     "name": "stdout",
     "output_type": "stream",
     "text": [
      "[[2.06917943 0.06614816 0.02317709]\n",
      " [0.06614816 2.05475902 0.00866315]\n",
      " [0.02317709 0.00866315 2.0578434 ]]\n"
     ]
    },
    {
     "data": {
      "text/plain": [
       "<matplotlib.colorbar.Colorbar at 0x7fea33061940>"
      ]
     },
     "execution_count": 35,
     "metadata": {},
     "output_type": "execute_result"
    },
    {
     "data": {
      "image/png": "[encoded data removed]",
      "text/plain": [
       "<Figure size 432x288 with 2 Axes>"
      ]
     },
     "metadata": {
      "needs_background": "light"
     },
     "output_type": "display_data"
    }
   ],
   "source": [
    "X1 = np.random.uniform(0,5,M)\n",
    "X2 = np.random.uniform(0,5,M)\n",
    "X3 = np.random.uniform(5,10,M)\n",
    "X = np.transpose(np.reshape(np.array([X1,X2,X3]),[3,M]))\n",
    "CV = covmat(X)\n",
    "print(CV)\n",
    "fig=plt.figure()\n",
    "plt.imshow(CV)\n",
    "plt.colorbar()"
   ]
  },
  {
   "cell_type": "markdown",
   "metadata": {
    "colab_type": "text",
    "id": "eKF1iWVVDKhE"
   },
   "source": [
    "## <font color='red'>5. Verify the properties of the covariance matrix.</font>"
   ]
  },
  {
   "cell_type": "markdown",
   "metadata": {
    "colab_type": "text",
    "id": "6Z1l5uMUDKhF"
   },
   "source": [
    "### <font color='red'> a) Symmetric,i.e.,$C_X = C_X^T.$ </font> "
   ]
  },
  {
   "cell_type": "code",
   "execution_count": 38,
   "metadata": {
    "colab": {},
    "colab_type": "code",
    "id": "10EhLQRRDKhI",
    "outputId": "a2b2002d-0273-4728-a50b-b84a2dc7f3c5"
   },
   "outputs": [
    {
     "name": "stdout",
     "output_type": "stream",
     "text": [
      "YES\n",
      "[[2.06917943 0.06614816 0.02317709]\n",
      " [0.06614816 2.05475902 0.00866315]\n",
      " [0.02317709 0.00866315 2.0578434 ]]\n"
     ]
    }
   ],
   "source": [
    "tempCV = np.transpose(CV)\n",
    "if (CV==tempCV).all():\n",
    "    print(\"YES\")\n",
    "    print(CV)\n",
    "else:\n",
    "    print(\"NO\")"
   ]
  },
  {
   "cell_type": "markdown",
   "metadata": {
    "colab_type": "text",
    "id": "Jh1FrgEMDKhP"
   },
   "source": [
    "### <font color='red'> b) Its eigenvalues are greater than equal to zero</font>"
   ]
  },
  {
   "cell_type": "code",
   "execution_count": 40,
   "metadata": {
    "colab": {},
    "colab_type": "code",
    "id": "pcksP2TJDKhQ",
    "outputId": "7d0a82cc-5400-489a-f2d8-db1a2f704fd4"
   },
   "outputs": [
    {
     "name": "stdout",
     "output_type": "stream",
     "text": [
      "(array([2.13540404, 1.9940675 , 2.05231031]), array([[ 0.72539885,  0.67903506, -0.11272932],\n",
      "       [ 0.6257948 , -0.71879843, -0.30283607],\n",
      "       [ 0.28666596, -0.14913151,  0.94635216]]))\n"
     ]
    }
   ],
   "source": [
    "from numpy import linalg as LA\n",
    "print(LA.eig(CV))"
   ]
  },
  {
   "cell_type": "markdown",
   "metadata": {
    "colab_type": "text",
    "id": "dRLagLuCDKha"
   },
   "source": [
    "### <font color='red'> c) It is positive semi-definite, i.e., for any real valued vector $a$,$$a^TC_Xa\\geq0$$ </font>"
   ]
  },
  {
   "cell_type": "code",
   "execution_count": 41,
   "metadata": {
    "colab": {},
    "colab_type": "code",
    "id": "Ah-EQiD8DKhc",
    "outputId": "87190f13-3518-4d26-f040-bc5f7c9a203c"
   },
   "outputs": [
    {
     "name": "stdout",
     "output_type": "stream",
     "text": [
      "[[3.53302134]]\n"
     ]
    }
   ],
   "source": [
    "a = np.random.rand(np.size(CV,0),1)\n",
    "val = np.matmul(np.matmul(a.T,CV),a)\n",
    "print(val)"
   ]
  },
  {
   "cell_type": "markdown",
   "metadata": {
    "colab_type": "text",
    "id": "n3d1lr5LDKhk"
   },
   "source": [
    "## <font color='red'>6. Compute correlation coefficient matrix.</font>\n",
    "Hint: you may require np.mean,np.prod,and np.std\n",
    "\n",
    "$$\\rho_{XY}=\\frac{COV(X,Y)}{\\sigma_X\\sigma_Y}$$"
   ]
  },
  {
   "cell_type": "code",
   "execution_count": 42,
   "metadata": {
    "colab": {},
    "colab_type": "code",
    "id": "TU-e6i50DKhm"
   },
   "outputs": [],
   "source": [
    "def corr(data_mat):\n",
    "    # n is number of random variables\n",
    "    n = len(data_mat[0])\n",
    "    \n",
    "    CR = np.zeros([n,n])\n",
    "    \n",
    "    #individual means of all random variables\n",
    "    for i in range(0,n):\n",
    "        CR[i][i] = 1\n",
    "        \n",
    "    #for two variables\n",
    "    for i in range(0,n):\n",
    "        for j in range(i+1,n):\n",
    "            col1 = column(data_mat,i)\n",
    "            col2 = column(data_mat,j)\n",
    "            final = col1*col2\n",
    "            CR[i][j] = (np.mean(final) - np.mean(col1)*np.mean(col2))/(np.std(col1)*np.std(col2))\n",
    "            CR[j][i] = CR[i][j]\n",
    "    return CR"
   ]
  },
  {
   "cell_type": "code",
   "execution_count": 43,
   "metadata": {
    "colab": {},
    "colab_type": "code",
    "id": "q1SS-febDKhr",
    "outputId": "89047005-03f5-4d14-c6c6-1d20a63758c7"
   },
   "outputs": [
    {
     "name": "stdout",
     "output_type": "stream",
     "text": [
      "[[1.         0.03208029 0.01123191]\n",
      " [0.03208029 1.         0.00421298]\n",
      " [0.01123191 0.00421298 1.        ]]\n"
     ]
    },
    {
     "data": {
      "text/plain": [
       "<matplotlib.colorbar.Colorbar at 0x7fea32f7bf28>"
      ]
     },
     "execution_count": 43,
     "metadata": {},
     "output_type": "execute_result"
    },
    {
     "data": {
      "image/png": "[encoded data removed]",
      "text/plain": [
       "<Figure size 432x288 with 2 Axes>"
      ]
     },
     "metadata": {
      "needs_background": "light"
     },
     "output_type": "display_data"
    }
   ],
   "source": [
    "CR = corr(X)\n",
    "print(CR)\n",
    "fig=plt.figure()\n",
    "plt.imshow(CR)\n",
    "plt.colorbar()"
   ]
  }
 ],
 "metadata": {
  "accelerator": "GPU",
  "colab": {
   "collapsed_sections": [],
   "name": "LAB 5 Covariance Matrix.ipynb",
   "provenance": [],
   "version": "0.3.2"
  },
  "kernelspec": {
   "display_name": "Python 3",
   "language": "python",
   "name": "python3"
  },
  "language_info": {
   "codemirror_mode": {
    "name": "ipython",
    "version": 3
   },
   "file_extension": ".py",
   "mimetype": "text/x-python",
   "name": "python",
   "nbconvert_exporter": "python",
   "pygments_lexer": "ipython3",
   "version": "3.7.1"
  }
 },
 "nbformat": 4,
 "nbformat_minor": 1
}
