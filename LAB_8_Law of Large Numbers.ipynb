{
 "cells": [
  {
   "cell_type": "code",
   "execution_count": 1,
   "metadata": {
    "colab": {},
    "colab_type": "code",
    "id": "waNNfLT_T-lv"
   },
   "outputs": [],
   "source": [
    "%matplotlib inline\n",
    "import numpy as np\n",
    "import matplotlib.pyplot as plt\n",
    "from scipy import misc\n",
    "from scipy.io import wavfile\n",
    "from numpy import linalg as la\n",
    "import matplotlib.image as mpimg\n",
    "import glob\n",
    "from numpy import linalg as LA\n",
    "import scipy.io as sio"
   ]
  },
  {
   "cell_type": "markdown",
   "metadata": {
    "colab_type": "text",
    "id": "EouDgG_YyD_q"
   },
   "source": [
    "## <font color='red'> 1. Experimentally prove weak law of large numbers. $$\\lim_{n\\to \\infty} P[\\vert M_n-m_x\\vert>\\epsilon]=0$$ Where, $M_n$ is the sample mean, $m_x$ is the actual mean, $\\epsilon$ is a small positive number and $n$ is the number of sample points.<font>"
   ]
  },
  {
   "cell_type": "code",
   "execution_count": 33,
   "metadata": {
    "colab": {
     "base_uri": "https://localhost:8080/",
     "height": 34
    },
    "colab_type": "code",
    "executionInfo": {
     "elapsed": 1739,
     "status": "ok",
     "timestamp": 1553572720520,
     "user": {
      "displayName": "Jignesh Patel",
      "photoUrl": "https://lh4.googleusercontent.com/-vUfG6O6FZMo/AAAAAAAAAAI/AAAAAAAAEbI/nRY5hm534mE/s64/photo.jpg",
      "userId": "14227228275160561258"
     },
     "user_tz": -330
    },
    "id": "-3b9txWwdPKq",
    "outputId": "1fd1dd93-9aa7-4e05-9d6a-7abb6d4a8c9a"
   },
   "outputs": [
    {
     "name": "stdout",
     "output_type": "stream",
     "text": [
      "0.9206\n"
     ]
    }
   ],
   "source": [
    "#Law of weak numbers\n",
    "\n",
    "mx = 5\n",
    "n = 10000\n",
    "Mn = 0\n",
    "cnt = 0\n",
    "epsilon = 0.001\n",
    "for i in range(n):\n",
    "    x = np.random.normal(mx,1,10000)\n",
    "    Mn = Mn + np.mean(x)\n",
    "    if(np.abs(np.mean(x)-mx) <= epsilon):\n",
    "        cnt = cnt+1\n",
    "Mn = Mn/n\n",
    "print(1 - cnt/n)\n",
    "\n",
    "#write code here"
   ]
  },
  {
   "cell_type": "markdown",
   "metadata": {
    "colab_type": "text",
    "id": "hKMJRDFlzwzJ"
   },
   "source": [
    "## <font color='red'> 2. Experimentally prove strong law of large numbers. $$P[\\lim_{n\\to \\infty} M_n=m_x]=1,$$ Where, $M_n$ is the sample mean, $m_x$ is the actual mean, and $n$ is the number of sample points.<font>"
   ]
  },
  {
   "cell_type": "code",
   "execution_count": 44,
   "metadata": {
    "colab": {
     "base_uri": "https://localhost:8080/",
     "height": 547
    },
    "colab_type": "code",
    "executionInfo": {
     "elapsed": 2252,
     "status": "ok",
     "timestamp": 1553572721041,
     "user": {
      "displayName": "Jignesh Patel",
      "photoUrl": "https://lh4.googleusercontent.com/-vUfG6O6FZMo/AAAAAAAAAAI/AAAAAAAAEbI/nRY5hm534mE/s64/photo.jpg",
      "userId": "14227228275160561258"
     },
     "user_tz": -330
    },
    "id": "21MajmRmacR5",
    "outputId": "978bed27-f4cd-45b8-fdff-54d192978eef"
   },
   "outputs": [
    {
     "data": {
      "text/plain": [
       "<Figure size 432x288 with 0 Axes>"
      ]
     },
     "execution_count": 44,
     "metadata": {},
     "output_type": "execute_result"
    },
    {
     "data": {
      "image/png": "[encoded data removed]",
      "text/plain": [
       "<Figure size 432x288 with 1 Axes>"
      ]
     },
     "metadata": {
      "needs_background": "light"
     },
     "output_type": "display_data"
    },
    {
     "data": {
      "image/png": "[encoded data removed]",
      "text/plain": [
       "<Figure size 432x288 with 1 Axes>"
      ]
     },
     "metadata": {
      "needs_background": "light"
     },
     "output_type": "display_data"
    },
    {
     "data": {
      "text/plain": [
       "<Figure size 432x288 with 0 Axes>"
      ]
     },
     "metadata": {},
     "output_type": "display_data"
    }
   ],
   "source": [
    "#Law of strong numbers\n",
    "\n",
    "m = 10000\n",
    "mx = 0\n",
    "n = 20000\n",
    "\n",
    "actual_mean = np.zeros(n)\n",
    "Mn = np.zeros(n)\n",
    "itr = range(n)\n",
    "\n",
    "for i in range(n):\n",
    "    x = np.random.normal(0,1,i)\n",
    "    mnn = np.mean(x)\n",
    "    Mn[i] = mnn\n",
    "    \n",
    "    \n",
    "\n",
    "#write code here\n",
    "plt.figure()\n",
    "plt.plot(itr,actual_mean,label='actual_mean')\n",
    "plt.plot(itr,Mn,label='Mn')\n",
    "plt.legend()\n",
    "plt.figure()\n",
    "plt.plot(itr,Mn-actual_mean,label='error')\n",
    "plt.figure()\n"
   ]
  },
  {
   "cell_type": "markdown",
   "metadata": {
    "colab_type": "text",
    "id": "naVsJJPe7U4A"
   },
   "source": [
    "## <font color='red'> 3. Experimentally prove central limit theorem. $$\\frac{S_N-E[S_N]}{\\sqrt{var(S_N)}}=\\frac{\\sum_{i=1}^{N}{X_i}-\\sum_{i=1}^{N}{E[X_i]}}{\\sqrt{\\sum_{i=1}^{N}{var[X_i]}}}\\to N(0,1)$$,Where, $X_1, X_2, . . , X_N$ are  random variables with mean $E[X_i]$ and variance $var[X_i]$, $i=1,2,…, N$. <font>"
   ]
  },
  {
   "cell_type": "code",
   "execution_count": 46,
   "metadata": {
    "colab": {
     "base_uri": "https://localhost:8080/",
     "height": 1342
    },
    "colab_type": "code",
    "executionInfo": {
     "elapsed": 3752,
     "status": "ok",
     "timestamp": 1553572722559,
     "user": {
      "displayName": "Jignesh Patel",
      "photoUrl": "https://lh4.googleusercontent.com/-vUfG6O6FZMo/AAAAAAAAAAI/AAAAAAAAEbI/nRY5hm534mE/s64/photo.jpg",
      "userId": "14227228275160561258"
     },
     "user_tz": -330
    },
    "id": "cOZDJSCJAQSr",
    "outputId": "e259af19-46bb-43b3-92ee-17be31300a36"
   },
   "outputs": [
    {
     "name": "stderr",
     "output_type": "stream",
     "text": [
      "/home/student/anaconda3/lib/python3.7/site-packages/ipykernel_launcher.py:13: MatplotlibDeprecationWarning: \n",
      "The 'normed' kwarg was deprecated in Matplotlib 2.1 and will be removed in 3.1. Use 'density' instead.\n",
      "  del sys.path[0]\n",
      "/home/student/anaconda3/lib/python3.7/site-packages/ipykernel_launcher.py:25: MatplotlibDeprecationWarning: \n",
      "The 'normed' kwarg was deprecated in Matplotlib 2.1 and will be removed in 3.1. Use 'density' instead.\n"
     ]
    },
    {
     "data": {
      "text/plain": [
       "[<matplotlib.lines.Line2D at 0x7f773e1e9940>]"
      ]
     },
     "execution_count": 46,
     "metadata": {},
     "output_type": "execute_result"
    },
    {
     "data": {
      "image/png": "[encoded data removed]",
      "text/plain": [
       "<Figure size 432x288 with 1 Axes>"
      ]
     },
     "metadata": {
      "needs_background": "light"
     },
     "output_type": "display_data"
    },
    {
     "data": {
      "text/plain": [
       "<Figure size 432x288 with 0 Axes>"
      ]
     },
     "metadata": {},
     "output_type": "display_data"
    },
    {
     "data": {
      "image/png": "[encoded data removed]",
      "text/plain": [
       "<Figure size 432x288 with 1 Axes>"
      ]
     },
     "metadata": {
      "needs_background": "light"
     },
     "output_type": "display_data"
    }
   ],
   "source": [
    "N=10 \n",
    "M=10000\n",
    "x = np.zeros([M,N])\n",
    "ex = 0\n",
    "va = 0\n",
    "\n",
    "for i in range(N):\n",
    "    x[:,i] = np.random.uniform(2,4,M)\n",
    "    ex = ex+np.mean(x[:,i])\n",
    "    va = va+ np.var(x[:,i])\n",
    "\n",
    "#write code here\n",
    "plt.hist(x[:,0],normed=True)\n",
    "plt.figure()\n",
    "\n",
    "Sn = np.zeros([M,1])\n",
    "for j in range(M):\n",
    "    for i in range(N):\n",
    "        Sn[j] = Sn[j] + x[j][i]\n",
    "Sn = Sn - ex\n",
    "Sn = Sn/np.sqrt(va)\n",
    "\n",
    "#write code here\n",
    "plt.figure()\n",
    "plt.hist(Sn,normed=True)\n",
    "\n",
    "x=np.linspace(-4,4,1000)\n",
    "fx=(1/(np.sqrt(2*np.pi)))*np.exp((-x**2)/2);\n",
    "plt.plot(x,fx)"
   ]
  },
  {
   "cell_type": "code",
   "execution_count": 0,
   "metadata": {
    "colab": {},
    "colab_type": "code",
    "id": "fKS0BN55BpNh"
   },
   "outputs": [],
   "source": []
  }
 ],
 "metadata": {
  "colab": {
   "name": "LAB_8_Law of Large Numbers.ipynb",
   "provenance": [],
   "version": "0.3.2"
  },
  "kernelspec": {
   "display_name": "Python 3",
   "language": "python",
   "name": "python3"
  },
  "language_info": {
   "codemirror_mode": {
    "name": "ipython",
    "version": 3
   },
   "file_extension": ".py",
   "mimetype": "text/x-python",
   "name": "python",
   "nbconvert_exporter": "python",
   "pygments_lexer": "ipython3",
   "version": "3.7.1"
  }
 },
 "nbformat": 4,
 "nbformat_minor": 1
}
